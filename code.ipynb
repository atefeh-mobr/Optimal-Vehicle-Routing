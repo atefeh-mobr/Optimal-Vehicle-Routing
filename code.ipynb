{
 "cells": [
  {
   "cell_type": "code",
   "execution_count": 1,
   "metadata": {},
   "outputs": [
    {
     "data": {
      "text/html": [
       "<div>\n",
       "<style scoped>\n",
       "    .dataframe tbody tr th:only-of-type {\n",
       "        vertical-align: middle;\n",
       "    }\n",
       "\n",
       "    .dataframe tbody tr th {\n",
       "        vertical-align: top;\n",
       "    }\n",
       "\n",
       "    .dataframe thead th {\n",
       "        text-align: right;\n",
       "    }\n",
       "</style>\n",
       "<table border=\"1\" class=\"dataframe\">\n",
       "  <thead>\n",
       "    <tr style=\"text-align: right;\">\n",
       "      <th></th>\n",
       "      <th>Place_index</th>\n",
       "      <th>Place_name</th>\n",
       "      <th>Latitude, Longitude</th>\n",
       "      <th>Neighbors_indeice</th>\n",
       "      <th>Neighbors_wight</th>\n",
       "    </tr>\n",
       "  </thead>\n",
       "  <tbody>\n",
       "    <tr>\n",
       "      <td>0</td>\n",
       "      <td>1</td>\n",
       "      <td>Children's Medical Center</td>\n",
       "      <td>35.7058416,51.3829665</td>\n",
       "      <td>2,3,4</td>\n",
       "      <td>6-2,4-3,6-4</td>\n",
       "    </tr>\n",
       "    <tr>\n",
       "      <td>1</td>\n",
       "      <td>2</td>\n",
       "      <td>Imam Khomeini Hospital</td>\n",
       "      <td>35.7083354,51.3806963</td>\n",
       "      <td>1,5</td>\n",
       "      <td>2-6,8-19</td>\n",
       "    </tr>\n",
       "    <tr>\n",
       "      <td>2</td>\n",
       "      <td>3</td>\n",
       "      <td>Laleh Park</td>\n",
       "      <td>35.7118933,51.3890112</td>\n",
       "      <td>1,5</td>\n",
       "      <td>3-4,4-17</td>\n",
       "    </tr>\n",
       "    <tr>\n",
       "      <td>3</td>\n",
       "      <td>4</td>\n",
       "      <td>Persian Cat Museum</td>\n",
       "      <td>35.7074702,51.3980569</td>\n",
       "      <td>1,5</td>\n",
       "      <td>4-6,7-15</td>\n",
       "    </tr>\n",
       "    <tr>\n",
       "      <td>4</td>\n",
       "      <td>5</td>\n",
       "      <td>University of Tehran, College of Engineering</td>\n",
       "      <td>35.7242279,51.3883588</td>\n",
       "      <td>2,3,4,6,7</td>\n",
       "      <td>19-8,17-4,15-7,10-8,9-13</td>\n",
       "    </tr>\n",
       "  </tbody>\n",
       "</table>\n",
       "</div>"
      ],
      "text/plain": [
       "   Place_index                                    Place_name  \\\n",
       "0            1                     Children's Medical Center   \n",
       "1            2                        Imam Khomeini Hospital   \n",
       "2            3                                    Laleh Park   \n",
       "3            4                            Persian Cat Museum   \n",
       "4            5  University of Tehran, College of Engineering   \n",
       "\n",
       "     Latitude, Longitude Neighbors_indeice           Neighbors_wight  \n",
       "0  35.7058416,51.3829665             2,3,4               6-2,4-3,6-4  \n",
       "1  35.7083354,51.3806963               1,5                  2-6,8-19  \n",
       "2  35.7118933,51.3890112               1,5                  3-4,4-17  \n",
       "3  35.7074702,51.3980569               1,5                  4-6,7-15  \n",
       "4  35.7242279,51.3883588         2,3,4,6,7  19-8,17-4,15-7,10-8,9-13  "
      ]
     },
     "execution_count": 1,
     "metadata": {},
     "output_type": "execute_result"
    }
   ],
   "source": [
    "import pandas as pd\n",
    "import numpy as np\n",
    "from scipy.sparse.csgraph import shortest_path\n",
    "\n",
    "df = pd.read_csv('Data.csv')\n",
    "df.head()"
   ]
  },
  {
   "cell_type": "code",
   "execution_count": 2,
   "metadata": {},
   "outputs": [
    {
     "data": {
      "text/plain": [
       "0     1\n",
       "1     2\n",
       "2     3\n",
       "3     4\n",
       "4     5\n",
       "5     6\n",
       "6     7\n",
       "7     8\n",
       "8     9\n",
       "9    10\n",
       "Name: Place_index, dtype: int64"
      ]
     },
     "execution_count": 2,
     "metadata": {},
     "output_type": "execute_result"
    }
   ],
   "source": [
    "places = df['Place_index']\n",
    "places"
   ]
  },
  {
   "cell_type": "code",
   "execution_count": 3,
   "metadata": {},
   "outputs": [],
   "source": [
    "distances = np.zeros((len(places), len(places)))\n",
    "     \n",
    "dist_df = df['Neighbors_wight']\n",
    "neighbours_df = df['Neighbors_indeice']\n",
    "coordinates = df['Latitude, Longitude']\n",
    "coordinates1 = []\n",
    "coordinates2 = []\n",
    "for i in range(len(coordinates)):\n",
    "    coors = coordinates[i].split(',')\n",
    "    coordinates1.append(coors[0])\n",
    "    coordinates2.append(coors[1])"
   ]
  },
  {
   "cell_type": "code",
   "execution_count": 4,
   "metadata": {},
   "outputs": [
    {
     "data": {
      "text/plain": [
       "array([[ 0.,  6.,  4.,  6.,  0.,  0.,  0.,  0.,  0.,  0.],\n",
       "       [ 2.,  0.,  0.,  0.,  8.,  0.,  0.,  0.,  0.,  0.],\n",
       "       [ 3.,  0.,  0.,  0.,  4.,  0.,  0.,  0.,  0.,  0.],\n",
       "       [ 4.,  0.,  0.,  0.,  7.,  0.,  0.,  0.,  0.,  0.],\n",
       "       [ 0., 19., 17., 15.,  0., 10.,  9.,  0.,  0.,  0.],\n",
       "       [ 0.,  0.,  0.,  0.,  8.,  0., 11.,  5.,  7.,  0.],\n",
       "       [ 0.,  0.,  0.,  0., 13.,  9.,  0.,  0.,  9.,  0.],\n",
       "       [ 0.,  0.,  0.,  0.,  0.,  4.,  0.,  0.,  5.,  7.],\n",
       "       [ 0.,  0.,  0.,  0.,  0.,  5., 11.,  5.,  0.,  7.],\n",
       "       [ 0.,  0.,  0.,  0.,  0.,  0.,  0.,  9., 12.,  0.]])"
      ]
     },
     "execution_count": 4,
     "metadata": {},
     "output_type": "execute_result"
    }
   ],
   "source": [
    "for i in range(len(neighbours_df)):\n",
    "    dist = dist_df[i].split(',')\n",
    "    neighbours = neighbours_df[i].split(',')\n",
    "\n",
    "    \n",
    "    for j in range(len(dist)):\n",
    "        dists = dist[j].split('-')\n",
    "\n",
    "        if distances[i][int(neighbours[j]) - 1] == 0 and distances[int(neighbours[j]) - 1][i] == 0:\n",
    "            distances[i][int(neighbours[j]) - 1] = int(dists[0])\n",
    "            distances[int(neighbours[j]) - 1][i] = int(dists[1])     \n",
    "distances"
   ]
  },
  {
   "cell_type": "code",
   "execution_count": 5,
   "metadata": {},
   "outputs": [],
   "source": [
    "D, Pr = shortest_path(distances, directed=False, method='FW', return_predecessors=True)"
   ]
  },
  {
   "cell_type": "code",
   "execution_count": 6,
   "metadata": {},
   "outputs": [],
   "source": [
    "def get_path(Pr, i, j):\n",
    "    i -= 1\n",
    "    j -= 1\n",
    "    \n",
    "    path = [j]\n",
    "    k = j\n",
    "    while Pr[i, k] != -9999:\n",
    "        path.append(Pr[i, k])\n",
    "        k = Pr[i, k]\n",
    "        \n",
    "    for i in range(len(path)):\n",
    "        path[i] += 1\n",
    "        \n",
    "        \n",
    "    return path[::-1]"
   ]
  },
  {
   "cell_type": "code",
   "execution_count": 7,
   "metadata": {},
   "outputs": [],
   "source": [
    "path_routs = get_path(Pr, 1, 10)"
   ]
  },
  {
   "cell_type": "code",
   "execution_count": 8,
   "metadata": {},
   "outputs": [],
   "source": [
    "def find_cost(path_routs):\n",
    "    cost = 0\n",
    "    for i in range(len(path_routs) - 1):\n",
    "        cost += distances[path_routs[i] - 1][path_routs[i + 1] - 1]\n",
    "\n",
    "    return cost"
   ]
  },
  {
   "cell_type": "code",
   "execution_count": 9,
   "metadata": {},
   "outputs": [
    {
     "name": "stdout",
     "output_type": "stream",
     "text": [
      "The index of the origin: 1 and its coodinates: 35.7058416, 51.3829665\n",
      "The index of the destination: 10 and its coodinates: 35.7793376, 51.4091636\n",
      "The pass:\n",
      "1    index:1\n",
      "3    index:3\n",
      "5    index:5\n",
      "6    index:6\n",
      "8    index:8\n",
      "10    index:10\n",
      "The path: [1, 3, 5, 6, 8, 10]\n",
      "The total cost: 30.0\n"
     ]
    }
   ],
   "source": [
    "print('The index of the origin: {} and its coodinates: {}, {}'.format(path_routs[0], coordinates1[0], coordinates2[0]))\n",
    "print('The index of the destination: {} and its coodinates: {}, {}'.format(path_routs[-1], coordinates1[-1], coordinates2[-1]))\n",
    "\n",
    "\n",
    "print('The pass:')\n",
    "for i in range(len(path_routs)):\n",
    "    print(path_routs[i], '   index:{}'.format(path_routs[i], coordinates1[i]))\n",
    "\n",
    "print('The path: {}'.format(path_routs))\n",
    "    \n",
    "print('The total cost: {}'.format(find_cost(path_routs)))"
   ]
  }
 ],
 "metadata": {
  "kernelspec": {
   "display_name": "Python 3",
   "language": "python",
   "name": "python3"
  },
  "language_info": {
   "codemirror_mode": {
    "name": "ipython",
    "version": 3
   },
   "file_extension": ".py",
   "mimetype": "text/x-python",
   "name": "python",
   "nbconvert_exporter": "python",
   "pygments_lexer": "ipython3",
   "version": "3.7.4"
  }
 },
 "nbformat": 4,
 "nbformat_minor": 2
}
